{
  "nbformat": 4,
  "nbformat_minor": 0,
  "metadata": {
    "kernelspec": {
      "name": "python_defaultSpec_1594171151109",
      "display_name": "Python 3.7.5 64-bit",
      "language": "python"
    },
    "language_info": {
      "mimetype": "text/x-python",
      "nbconvert_exporter": "python",
      "name": "python",
      "file_extension": ".py",
      "version": "3.7.5-final",
      "pygments_lexer": "ipython3",
      "codemirror_mode": {
        "version": 3,
        "name": "ipython"
      }
    },
    "toc": {
      "nav_menu": {
        "height": "131px",
        "width": "252px"
      },
      "number_sections": true,
      "sideBar": false,
      "skip_h1_title": false,
      "base_numbering": 1,
      "title_cell": "Table of Contents",
      "title_sidebar": "Sumário",
      "toc_cell": false,
      "toc_position": {
        "height": "696px",
        "width": "352px",
        "left": "75px",
        "top": "150px"
      },
      "toc_section_display": true,
      "toc_window_display": false
    },
    "celltoolbar": "Slideshow",
    "colab": {
      "name": "1.Python_Numbers.ipynb",
      "provenance": [],
      "collapsed_sections": [],
      "include_colab_link": true
    }
  },
  "cells": [
    {
      "cell_type": "markdown",
      "metadata": {
        "id": "view-in-github",
        "colab_type": "text"
      },
      "source": [
        "<a href=\"https://colab.research.google.com/github/frankalcantara/Aulas/blob/master/Fenomenos/1_Python_Numbers.ipynb\" target=\"_parent\"><img src=\"https://colab.research.google.com/assets/colab-badge.svg\" alt=\"Open In Colab\"/></a>"
      ]
    },
    {
      "cell_type": "markdown",
      "metadata": {
        "id": "HZLZwupqJiIR"
      },
      "source": [
        "# Introdução ao Python ao ambiente de estudo\n",
        "\n",
        "__Frank Coelho de Alcantara - frank.alcantara@gmail.com__\n",
        "__copyright 2020, todos os direitos reservados__\n",
        "\n",
        "Python é uma linguagem de programação que, a cada dia se torna mais e mais popular. Criada em 1991 por Guido Van Rossum a linguagem se tornou popular graças a facilidade e a recente adoção por pesquisadores em disciplinas relacionadas com _machine learning_, inteligência artificial, cálculo numérico, programação linear entre uma centena de outras disciplinas. \n",
        "\n",
        "Uma linguagem de programação, ainda é uma linguagem e, como tal, para que possamos dominá-la precisamos saber como ler e como escrever nesta linguagem. \n",
        "\n",
        "Este ambiente que estamos usando, um versão do __Jupyter Notebook__ permite a execução de código de forma interativa. Porém, tem algumas limitações e algumas características que são exclusivas deste ambiente. Vamos utilizar o __Jupyter Notebook__ graças a sua simplicidade e facilidade. Você vai poder aprender Python, sem precisar instalar nada e sem se preocupar com capacidade de processamento. \n",
        "\n",
        "A primeira coisa que precisa aprender é que neste ambiente vamos executar um código escrito em células de código, chamadas de _code_. Estas células podem ser identificadas pelos __[*]__ que estão no lado superior esquerdo da célula de código. Para executar o código em uma destas células pressione as teclas __ctrl+enter__. \n",
        "\n",
        "A legibilidade de um código é uma função direta da forma como é escrito e dos comentários que fazemos neste código. O Python, não é excessão. A célula a seguir, é uma célula de código explicando os comentários.\n",
        "\n"
      ]
    },
    {
      "cell_type": "code",
      "metadata": {
        "trusted": true,
        "id": "_KjcA05bJiIT",
        "colab": {
          "base_uri": "https://localhost:8080/",
          "height": 35
        },
        "outputId": "2142e1c2-d1de-4537-8989-1d063db75b12"
      },
      "source": [
        "# Este é um comentário. Comentários são marcados com # e vão deste o # até o fim da linha\n",
        "spam = 1  # este é outro comentário está na mesma linha em que o identificador spam foi criado\n",
        "          # e agora mais um comentário!\n",
        "text = \"# Isto não é um comentário, está entre aspas, é uma string.\"\n",
        "# Agora vamos ver o identificador text pode ser chamado de variável text  e \n",
        "# podemos, a qualquer momento, inspecinar esta variável \n",
        "# basta digitá-la em uma linha de uma célula de código\n",
        "# pressione ctrl+enter Para rodar o código que está nesta célula e verá o conteúdo de text\n",
        "text"
      ],
      "execution_count": null,
      "outputs": [
        {
          "output_type": "execute_result",
          "data": {
            "application/vnd.google.colaboratory.intrinsic+json": {
              "type": "string"
            },
            "text/plain": [
              "'# Isto não é um comentário, está entre aspas, é uma string.'"
            ]
          },
          "metadata": {
            "tags": []
          },
          "execution_count": 1
        }
      ]
    },
    {
      "cell_type": "markdown",
      "metadata": {
        "id": "x0cKCBiXJiId"
      },
      "source": [
        "Observe que as células de código criam uma área de saída automaticamente. É nesta área que será apresentado o resultado do código que você executou.\n",
        "\n",
        "Eu vou usar tanto as células de texto, como esta que você está lendo agora, quanto os comentários, diretamente no código, para explicar os conceitos conceitos necessários para entender cada um dos _notebooks_ deste curso. "
      ]
    },
    {
      "cell_type": "markdown",
      "metadata": {
        "id": "VygASdCcJiIe"
      },
      "source": [
        "## Inserindo Bibliotecas\n",
        "As regras do ambiente que estamos usando não é muito diferente das regras de qualquer ambiente de programação. Os comandos, dentro de uma célula de código,  serão executados em ordem, de cima para baixo e da esquerda para a direita. A diferença é que você pode, se desejar, executar linha por linha, bastando para isso que cada linha esteja em uma célula de código. \n",
        "\n",
        "No Python, assim como na maior parte das linguagens de programação, podemos adicionar funcionalidades ao nosso código com o uso de bibliotecas externas. Bastando, para tanto, que estas bibliotecas sejam inseridas, ou importadas, no nosso código. Neste ambiente, precisaremos, instalar estas bibliotecas e depois importar a biblioteca no nosso código.\n",
        "\n",
        "Eu testei exaustivamente este ambiente que estamos usando. Algumas bibliotecas já estão disponíveis e, portanto, tudo que precisamos fazer é importar. Outras não estão disponíveis. Neste caso, teremos que istalar a biblioteca no ambinte do __Jupyter Notebook__. Vamos usar o comando _\"!pip install biblioteca\"_ o símbolo \"!\" indica que este comando será executado diretamente no ambiente que está rodando o __Jupyter Notebook__ apenas para o usuário que está executando este __notebook__. \n",
        "\n",
        "A célula a seguir, faz o _update_ da ferramenta de gestão de pacotes do Python e, em seguida instala duas bibliotecas. \n"
      ]
    },
    {
      "cell_type": "code",
      "metadata": {
        "trusted": true,
        "tags": [],
        "id": "KLLt6T8nJiIk",
        "colab": {
          "base_uri": "https://localhost:8080/",
          "height": 323
        },
        "outputId": "3dfeb45c-b6af-43b8-d805-7e735363e794"
      },
      "source": [
        "# Este é apenas uma segurança para manter o pip sempre atualizado\n",
        "!pip install --upgrade pip\n",
        "!pip install pandas\n",
        "!pip install pygame  #instalando apenas para mostar o processo de instalação de uma biblioteca que, provavelmente não está disponível no ambiente.\n",
        "\n",
        "# Rode esta célula para ver o resultado, tanto do processo de update quando da instalação das bibliotecas. \n"
      ],
      "execution_count": null,
      "outputs": [
        {
          "output_type": "stream",
          "text": [
            "Collecting pip\n",
            "\u001b[?25l  Downloading https://files.pythonhosted.org/packages/cb/28/91f26bd088ce8e22169032100d4260614fc3da435025ff389ef1d396a433/pip-20.2.4-py2.py3-none-any.whl (1.5MB)\n",
            "\u001b[K     |████████████████████████████████| 1.5MB 2.7MB/s \n",
            "\u001b[?25hInstalling collected packages: pip\n",
            "  Found existing installation: pip 19.3.1\n",
            "    Uninstalling pip-19.3.1:\n",
            "      Successfully uninstalled pip-19.3.1\n",
            "Successfully installed pip-20.2.4\n",
            "Requirement already satisfied: pandas in /usr/local/lib/python3.6/dist-packages (1.1.2)\n",
            "Requirement already satisfied: numpy>=1.15.4 in /usr/local/lib/python3.6/dist-packages (from pandas) (1.18.5)\n",
            "Requirement already satisfied: python-dateutil>=2.7.3 in /usr/local/lib/python3.6/dist-packages (from pandas) (2.8.1)\n",
            "Requirement already satisfied: pytz>=2017.2 in /usr/local/lib/python3.6/dist-packages (from pandas) (2018.9)\n",
            "Requirement already satisfied: six>=1.5 in /usr/local/lib/python3.6/dist-packages (from python-dateutil>=2.7.3->pandas) (1.15.0)\n",
            "Collecting pygame\n",
            "  Downloading pygame-1.9.6-cp36-cp36m-manylinux1_x86_64.whl (11.4 MB)\n",
            "\u001b[K     |████████████████████████████████| 11.4 MB 44 kB/s \n",
            "\u001b[?25hInstalling collected packages: pygame\n",
            "Successfully installed pygame-1.9.6\n"
          ],
          "name": "stdout"
        }
      ]
    },
    {
      "cell_type": "markdown",
      "metadata": {
        "id": "jtbZ0xHJJiIp"
      },
      "source": [
        "Neste notebook não usaremos nenhuma das bibliotecas instaladas. Ou seja, este exercício foi apenas formativo. Para que você entenda este processo. Contudo, fique tranquilo, todas as vezes que formos instalar uma biblioteca, eu vou chamar atenção sobre o processo até que ele seja natural para você. \n",
        "\n",
        "Muito da flexibilidade e popularidade do Python pode ser contabilizada a favor  do conjunto de módulos, ou bibliotecas de funções e objetos, que podemos importar no nosso código. Estes módulos acrescentam funcionalidades ao seu programa e, muitas vezes, estão otimizados para eficiência e eficácia.\n",
        "\n",
        "Vamos importar mais alguns para treinar e, desta vez porque vamos usar algumas funcionalidades dos módulos neste _notebook_."
      ]
    },
    {
      "cell_type": "code",
      "metadata": {
        "trusted": true,
        "id": "G70u36kUJiIq",
        "colab": {
          "base_uri": "https://localhost:8080/",
          "height": 35
        },
        "outputId": "089b1161-caf3-4997-ff55-7c606a378fb6"
      },
      "source": [
        "\n",
        "# Vamos importar o numpy, módulo que contém um array especial e atribuir a este módulo o alias np\n",
        "import numpy as np \n",
        "# Vamos importar o módulo decimal diretamente\n",
        "from decimal import (Decimal, getcontext) #aritimética de ponto flutuante mais precisa que o IEEE 754\n",
        "# O Módulo fractions é Um módulo que contém uma classe desenvolvida para facilitar o trabalho com frações\n",
        "# Vamos importar este módulo determinando qual a classe que eu vou usar neste notebook\n",
        "from fractions import Fraction \n",
        "# Podemos importar um módulo e selecionar os métodos que desejamos utilizar no notebook.\n",
        "# Por exemplo, vamos importar apenas algumas funções do múdulo math, um módulo com métodos, e constantes matemáticas.\n",
        "from math import pi, cos, sin \n",
        "text = \"vou imprimir isso só para mostrar que a célula acabou.\"\n",
        "# Agora vamos imprimir o conteúdo da variável text - pressione ctrl+enter para rodar a célula\n",
        "text"
      ],
      "execution_count": null,
      "outputs": [
        {
          "output_type": "execute_result",
          "data": {
            "application/vnd.google.colaboratory.intrinsic+json": {
              "type": "string"
            },
            "text/plain": [
              "'vou imprimir isso só para mostrar que a célula acabou.'"
            ]
          },
          "metadata": {
            "tags": []
          },
          "execution_count": 69
        }
      ]
    },
    {
      "cell_type": "markdown",
      "metadata": {
        "id": "jQFTVWlpJiIx"
      },
      "source": [
        "Em ambientes de programação não interativos, a inserção de todas a bibliotecas no topo da folha de código é uma prática comum e muitas vezes indicada como sendo uma boa prática para manter o seu código legível.\n",
        "\n",
        "Talvez essa não seja a melhor prática em ambintes interativos como o __Jupyter Notebook__. Eu vou manter a importanção no topo da página só por tradição. Em ambientes interativos podemos fazer uma gestão __lazy__ das bibliotecas e só importar a biblioteca necessária a partir do ponto no _notebook_ onde ela se torna necessária. \n",
        "\n",
        "Mesmo que adote uma estratégia __lazy__ para gerenciar suas bibliotecas utilize uma célula só para a importação. Observe que um dos problemas mais evidentes de se fazer a importação de uma biblioteca, ou mais bibliotecas, em uma determinada célula é que sempre que você executar esta célula terá que esperar todas as bibliotecas serem verificadas e, se necessário, carregadas. \n",
        " "
      ]
    },
    {
      "cell_type": "markdown",
      "metadata": {
        "id": "ESylwnR6JiIy"
      },
      "source": [
        "# Números\n",
        "Um sábio uma vez disse que bons programadores conhecem seus programas e que os excelentes conhecem suas estruturas de dados. Vamos aprender Python a partir de suas estruturas de dados. Parece estranho mas, isso irá facilitar o entendimento de algoritmos complexos, como os utilizados em inteligência artificial e aprendizado de máquina. Todas as estruturas de dados são artefatos de código criados em torno dos tipos de dados que a linguagem manipula, estes tipos podem dividos em primitivos, compostos e complexos. \n",
        "\n",
        "Os tipos primitivos mais simples em Python estão no conjunto _numbers_ que incluen: inteiros (int); reais (float) e complexos. Podemos incluir no conjutno _numbers_ os módulos __fractions__ e __decimais__ mas, estes não são nativos da linguagem e definem tipos de valores numéricos especiais.\n",
        "\n",
        "Neste ponto é preciso ressaltar que tudo no Python é objeto. Você vai entender a importância disso ao longo deste curso.\n",
        "\n",
        "Antes de nos aprofundarmos nas caracteristicas dos tipos primitivos do conjunto _numbers_ precisamos saber que existem milhares de métodos matemáticos disponíveis nas mais diversas bibliotecas de Python. Anteriormente, incluímos neste _notebook_ duas destas bibliotecas: __math__ e __numpy__ e já temos disponíveis neste ambiente todos o métodos, e funções, disponíveis nestas bibliotecas. Algumas destas funções estão listadas na __Tabela 1__.\n",
        "\n",
        "<div align=\"center\">Tabela 1: algumas funções matemáticas do Python</div>\n",
        "\n",
        "|Função|Sintaxe|Forma Alternativa||Função |Sintaxe|Forma Alternativa \n",
        "| --- | --- | --- |--- |--- |--- |--- |\n",
        "| adição| x+y | add(x,y) || Raiz Quadrada| sqrt(x) |  |\n",
        "| subtração| x-y | subtract(x,y) || Logarítmo Decimal| log10(x) |  |\n",
        "| multiplicação| x*y | multiply(x,y) || exponencial| exp(x) | e**x |\n",
        "| divisão| x/y | divide(x,y) || seno| sin(x) |  |\n",
        "| resto| x%y | remaider(x,y) || cosseno| cos(x) | |\n",
        "| igualdade| x==y |  || arco seno| arcsin(x) | |\n",
        "| Potenciação| x**y | Pow(x,y) || ângulos para Radianos| deg2rad(x) | |\n",
        "| Notação Científica|2.5*10**7 | 2.5e7 || Tangente hiperbólica| tanh(x) | add(x,y) |\n",
        "\n",
        "<div align=\"center\">Fonte: o autor(2020)</div>\n",
        "\n",
        "Vamos usar algumas destas funções para conhecer um pouco sobre o uso de dados do tipo _numbers_ em Python. \n",
        "\n",
        "Mas, você precisa ter um detalhe em mente. As duas bibliotecas que incluímos, __math__ e __numpy__ possuem métodos similares e precisaremos observar cuidadosamente os métodos que usaremos."
      ]
    },
    {
      "cell_type": "markdown",
      "metadata": {
        "id": "IT1XggK0JiIz"
      },
      "source": [
        "## Números, variáveis e objetos de bibliotecas\n",
        "\n",
        "O interpretador pode atuar como uma calculadora, excutando as operações básicas e os métodos apresentados na __Tabela 1__. Para isto, basta escrever a operação e pressionar __enter__. Aqui, neste ambiente, vocêo pode digitar a equação em uma célula de Código, indicada por __[]__ na esquerda, e pressionar ___ctrl-enter___. \n",
        "\n",
        "Os operadores matemáticos aritméticos fundamentais, __+__, __-__, __*__ e __/__ funcionam exatamente como se deveria esperar no que é relativo a precedência das operações. Lembre-se que parenteses podem, e devem, ser utilizados para precedência Por exempl0:\n"
      ]
    },
    {
      "cell_type": "code",
      "metadata": {
        "trusted": true,
        "id": "vZpmg0NWJiI0",
        "colab": {
          "base_uri": "https://localhost:8080/",
          "height": 34
        },
        "outputId": "8393c43d-d34e-45db-8415-2d0c6aecc412"
      },
      "source": [
        "# Pressione ctrl-enter para rodar cada célula que queira testar\n",
        "2*12+1"
      ],
      "execution_count": null,
      "outputs": [
        {
          "output_type": "execute_result",
          "data": {
            "text/plain": [
              "25"
            ]
          },
          "metadata": {
            "tags": []
          },
          "execution_count": 4
        }
      ]
    },
    {
      "cell_type": "code",
      "metadata": {
        "id": "XNSbFHbaBILx",
        "colab": {
          "base_uri": "https://localhost:8080/",
          "height": 34
        },
        "outputId": "67a5f8a8-9be7-4973-ef04-2779d267e8cc"
      },
      "source": [
        "# pressione ctrl+enter para rodar esta célula e observe o efeito da precedência na operação\n",
        "2*(12+1)"
      ],
      "execution_count": null,
      "outputs": [
        {
          "output_type": "execute_result",
          "data": {
            "text/plain": [
              "26"
            ]
          },
          "metadata": {
            "tags": []
          },
          "execution_count": 5
        }
      ]
    },
    {
      "cell_type": "code",
      "metadata": {
        "id": "wVAerSeUC99g",
        "colab": {
          "base_uri": "https://localhost:8080/",
          "height": 34
        },
        "outputId": "270047b2-7ff1-43c6-9d41-dd8d793f7a0c"
      },
      "source": [
        "# ou usar as funções matemáticas, sem se preocupar se estamos em radianos ou graus.\n",
        "sin(60)"
      ],
      "execution_count": null,
      "outputs": [
        {
          "output_type": "execute_result",
          "data": {
            "text/plain": [
              "-0.3048106211022167"
            ]
          },
          "metadata": {
            "tags": []
          },
          "execution_count": 6
        }
      ]
    },
    {
      "cell_type": "markdown",
      "metadata": {
        "id": "m3sSbp6BB8ZE"
      },
      "source": [
        "\n",
        "Algumas funções matemáticas fazem parte da linguagem, outras estão na biblioteca __math__ e outras ainda na biblioteca __cmath__ ou __numpy__, isso para citar apenas algumas. Junto com estas funções estão constantes, como o valor de $\\pi$ representado pelo identificador __pi__ na biblioteca __math__. \n",
        "\n",
        "Para usarmos métodos da biblioteca __numpy__, já importada no objeto __np__, basta usamos este objeto e seus métodos com a notação ponto. Vamos usar o valor de $\\pi$ e o método __print()__ para exemplificar esta chamada de métodos da biblioteca __numpy__.\n"
      ]
    },
    {
      "cell_type": "code",
      "metadata": {
        "trusted": true,
        "id": "BI0BQ0fRJiI5",
        "colab": {
          "base_uri": "https://localhost:8080/",
          "height": 34
        },
        "outputId": "999b367b-a93f-49b7-f52d-78ea50853848"
      },
      "source": [
        "# Exemplo de uso de método em uma biblioteca (numpy), com impressão formatada\n",
        "print(\"Pi=\", pi, \"O seno de PI/4=\",  np.sin(pi/4))"
      ],
      "execution_count": null,
      "outputs": [
        {
          "output_type": "stream",
          "text": [
            "Pi= 3.141592653589793 O seno de PI/4= 0.7071067811865475\n"
          ],
          "name": "stdout"
        }
      ]
    },
    {
      "cell_type": "code",
      "metadata": {
        "trusted": true,
        "id": "u2m8q3LWJiI_",
        "colab": {
          "base_uri": "https://localhost:8080/",
          "height": 34
        },
        "outputId": "3933751b-5118-41a8-e881-c57146288a25"
      },
      "source": [
        "# Não se esqueça que também importamos a biblioteca math com suas próprias funções, seno é uma delas logo:\n",
        "sin(pi/4)\n",
        "# e agora sabemos que estamos trabalhando em radianos."
      ],
      "execution_count": null,
      "outputs": [
        {
          "output_type": "execute_result",
          "data": {
            "text/plain": [
              "0.7071067811865475"
            ]
          },
          "metadata": {
            "tags": []
          },
          "execution_count": 8
        }
      ]
    },
    {
      "cell_type": "markdown",
      "metadata": {
        "id": "gvTr4-GmJiJO"
      },
      "source": [
        "Os números inteiros (`2`, `4`, `20`) são do tipo [`int`](https://docs.python.org/3.5/library/functions.html#int), os números reais (`5.0`, `1.6`) são do tipo [`float`](https://docs.python.org/3.5/library/functions.html#float). \n",
        "Uma operação de divisão aritimética (`/`) sempre retornará um número real do tipo ___float___. \n",
        "\n",
        "Para fazer uma divisão de inteiros e receber um inteiro como quociente, [floor division](https://docs.python.org/3.5/glossary.html#term-floor-division) você deverá utilizar o operador (`//`). \n",
        "\n",
        "Para calcular o resto de uma divisão de inteiros use o operador `%`.\n"
      ]
    },
    {
      "cell_type": "code",
      "metadata": {
        "trusted": true,
        "id": "iDBAVC05JiJE",
        "colab": {
          "base_uri": "https://localhost:8080/",
          "height": 34
        },
        "outputId": "c8547204-c979-42bd-c0a0-8a296c71d9d3"
      },
      "source": [
        "# Em Python, há uma carqcterística interessante não vamos falar de tipos ainda mas uma divisão sempre retorna um número real\n",
        "8 / 5  #Uma divisão irá sempre retornar um número de ponto flutuante."
      ],
      "execution_count": null,
      "outputs": [
        {
          "output_type": "execute_result",
          "data": {
            "text/plain": [
              "1.6"
            ]
          },
          "metadata": {
            "tags": []
          },
          "execution_count": 9
        }
      ]
    },
    {
      "cell_type": "code",
      "metadata": {
        "trusted": true,
        "id": "ciUt3XfZJiJV",
        "colab": {
          "base_uri": "https://localhost:8080/",
          "height": 34
        },
        "outputId": "51348daa-e1c2-4662-e294-1b5cc4f4a983"
      },
      "source": [
        "# Podemos ter uma divisão de inteiros que retorne apenas a parte inteira do resultado\n",
        "17 // 3  # a divisão de dinteiros, devolve um inteiro é chamada de flor divisio."
      ],
      "execution_count": null,
      "outputs": [
        {
          "output_type": "execute_result",
          "data": {
            "text/plain": [
              "5"
            ]
          },
          "metadata": {
            "tags": []
          },
          "execution_count": 10
        }
      ]
    },
    {
      "cell_type": "code",
      "metadata": {
        "trusted": true,
        "id": "VDE0wTHtJiJa",
        "colab": {
          "base_uri": "https://localhost:8080/",
          "height": 34
        },
        "outputId": "0b57e8cd-77ad-472b-c932-8c39b06da124"
      },
      "source": [
        "# E uma operação apenas para retornar o resto de uma divisão de inteiros.\n",
        "17 % 3  # o % retorna o resto de uma divisão de inteiros."
      ],
      "execution_count": null,
      "outputs": [
        {
          "output_type": "execute_result",
          "data": {
            "text/plain": [
              "2"
            ]
          },
          "metadata": {
            "tags": []
          },
          "execution_count": 11
        }
      ]
    },
    {
      "cell_type": "markdown",
      "metadata": {
        "id": "b_x0bNdpJiJm"
      },
      "source": [
        "Ainda testando operaçãoes com números, observe o operador `**` que é usado para o cálculo de potência.\n"
      ]
    },
    {
      "cell_type": "code",
      "metadata": {
        "trusted": true,
        "id": "a30m1i4tJiJm",
        "colab": {
          "base_uri": "https://localhost:8080/",
          "height": 34
        },
        "outputId": "bfa75f89-9b17-4d23-cbf7-c13854b8739e"
      },
      "source": [
        "5 ** 2  # 5 elevado ao quadrado"
      ],
      "execution_count": null,
      "outputs": [
        {
          "output_type": "execute_result",
          "data": {
            "text/plain": [
              "25"
            ]
          },
          "metadata": {
            "tags": []
          },
          "execution_count": 12
        }
      ]
    },
    {
      "cell_type": "code",
      "metadata": {
        "trusted": true,
        "id": "wJejqjLaJiJr",
        "colab": {
          "base_uri": "https://localhost:8080/",
          "height": 34
        },
        "outputId": "14870f8e-84fa-4822-d52a-546ef5446933"
      },
      "source": [
        "2 ** 7  # 2 elevado a sétima potência"
      ],
      "execution_count": null,
      "outputs": [
        {
          "output_type": "execute_result",
          "data": {
            "text/plain": [
              "128"
            ]
          },
          "metadata": {
            "tags": []
          },
          "execution_count": 13
        }
      ]
    },
    {
      "cell_type": "markdown",
      "metadata": {
        "id": "940wOthOJiJw"
      },
      "source": [
        "A precedência das operações matemáticas é um dos maiores motivos de erros em programas. Não é raro que o programador se esqueça de observar ordem de precedência e acabe obtendo resultados inesperados. Por exemplo, observe que a precedência do operador `**` é maior que a precedência do operador `-`. A Tabela 2 mostra a precedência dos operadores em Python, em ordem. \n",
        "\n",
        "**<div align=\"center\">Tabela 2: Precedência dos operadores em Python</div>**\n",
        "\n",
        "|operador|Significado \n",
        "| --- | --- \n",
        "| ()| parenteses, agrupamento \n",
        "| f(args...)|chamada de função\n",
        "| x[index:index]| divisão (_spliting_)\n",
        "| dx[index]| indexação de elementos\n",
        "| x.attribute|referência a atributos \n",
        "| **| Exponenciação\n",
        "| ~x| negação em bits \n",
        "| +x, -x|troca de sinal \n",
        "| *, /, %| multiplicação, divisão e resto\n",
        "| +, -|adição e subtração\n",
        "| <<, >>| deslocamento a esquerda e a direita (bits)\n",
        "| &| e lógico (bits)\n",
        "| ^|XOR lógico (bits)\n",
        "|&#124; |Ou Lógico (bits)\n",
        "| <<, >>| deslocamento a esquerda e a direita (bits)\n",
        "|in, not in, is, is not, <, <=,  >,  >=, <>, !=, ==| comparação, identidade e pertencimento (conjuntos)\n",
        "| not x|negação lógica\n",
        "| and |e lógico\n",
        "| or|ou lógico\n",
        "|lambda|expressão lambda\n",
        "\n",
        "**<div align=\"center\">Fonte: o autor(2020)</div>**\n",
        "\n",
        "Veja alguns exemplos do uso da precedência a seguir:"
      ]
    },
    {
      "cell_type": "code",
      "metadata": {
        "trusted": true,
        "id": "S35g7ib9JiJx",
        "colab": {
          "base_uri": "https://localhost:8080/",
          "height": 34
        },
        "outputId": "7f837c19-0f30-4d77-ad53-48b1b41f8680"
      },
      "source": [
        "-3**2  # Graças a precedencia do ** vermos o resultado de -(3**2)"
      ],
      "execution_count": null,
      "outputs": [
        {
          "output_type": "execute_result",
          "data": {
            "text/plain": [
              "-9"
            ]
          },
          "metadata": {
            "tags": []
          },
          "execution_count": 14
        }
      ]
    },
    {
      "cell_type": "markdown",
      "metadata": {
        "id": "IwysaoUPJiJ2"
      },
      "source": [
        "Mas, vamos imaginar que você queria realmente elevar `-3` ao quadrado, nestes casos você pode usar parênteses para determinar, manualmente, a órdem do cálculo "
      ]
    },
    {
      "cell_type": "code",
      "metadata": {
        "trusted": true,
        "id": "O2PVS-35JiJ2",
        "colab": {
          "base_uri": "https://localhost:8080/",
          "height": 34
        },
        "outputId": "1700d50d-a700-4d8b-e402-55be20c3e553"
      },
      "source": [
        "(-3)**2 #agora vamos ter -3 elevado ao quadrado"
      ],
      "execution_count": null,
      "outputs": [
        {
          "output_type": "execute_result",
          "data": {
            "text/plain": [
              "9"
            ]
          },
          "metadata": {
            "tags": []
          },
          "execution_count": 15
        }
      ]
    },
    {
      "cell_type": "markdown",
      "metadata": {
        "id": "RhgyiRv2JiJ7"
      },
      "source": [
        "O símbolo (`=`) é o operador de atribuição. Você pode utilizar este operador para atribuir valores à identificadores. Uma vez que um nome seja atribuido a um valor poderá usar estes identificadores no lugar dos valores. \n",
        "\n",
        "Observe que evitei a palavra variável. Mas, se preferir pode entender estes identificadores simples como variáveis. \n",
        "\n",
        "Exitem algumas palavras reservadas pela linguagem Python que não podem ser utilizadas para a criação de identificadores. são elas: \n",
        "__and, as, assert, break, class, continue, def, del, elif, else, except,\n",
        "exec, finally, for, from, global, if, import, in, is, lambda, not, or,\n",
        "pass, print, raise, return, try, while, with, yield__\n",
        "\n",
        "O Python não tem tipos de identificadores. Apenas valores têm tipos desta forma, a linguagem irá inferir automaticamente o tipo de cada um dos identificadores a partir do tipo do valor que você atribuir. \n",
        "\n",
        "Vamos ver alguns exemplos:\n"
      ]
    },
    {
      "cell_type": "code",
      "metadata": {
        "trusted": true,
        "id": "cqyFIG1pJiJ8",
        "colab": {
          "base_uri": "https://localhost:8080/",
          "height": 34
        },
        "outputId": "7febc0fd-5676-4efa-d676-f40f5de9af06"
      },
      "source": [
        "# Exemplo do uso de identificadores\n",
        "largura = 10  # Atribuição direta de um valor\n",
        "altura = 5 * 9 # Atribuição do resultado de uma operação\n",
        "area = altura * largura\n",
        "# E podemos verificar o resultado com o método print, para ver o resultado rode a célula.\n",
        "print(\"a área é o produto da altura =\", altura, \" pela largura =\", largura, \"e neste caso é igual a \", area)\n"
      ],
      "execution_count": null,
      "outputs": [
        {
          "output_type": "stream",
          "text": [
            "a área é o produto da altura = 45  pela largura = 10 e neste caso é igual a  450\n"
          ],
          "name": "stdout"
        }
      ]
    },
    {
      "cell_type": "markdown",
      "metadata": {
        "id": "9oUkf9MKHSD6"
      },
      "source": [
        "Podemos usar os identificadores para nomear valores de qualquer um dos tipos, ou estruturas de dados do Python. Vamos ver um exemplo agora e depois, ao longo do curso, veremos algumas diferenças entre indentificadores simples como as variáveis que vimos até o momento e identificadores mais complexos. Por equanto vamos ficar com __numbers__ e __strings__.\n"
      ]
    },
    {
      "cell_type": "code",
      "metadata": {
        "trusted": true,
        "id": "QGSPikH3JiKB",
        "colab": {
          "base_uri": "https://localhost:8080/",
          "height": 68
        },
        "outputId": "d1f05ebb-0374-4c06-8a06-fd94853dd61d"
      },
      "source": [
        "contador = 100            # Atribuíndo um inteiro\n",
        "quilometros   = 1000.345  # Um real. Para separar a parte decimal usamos o ponto\n",
        "nome    = \"Beatriz\"       # Uma string\n",
        "\n",
        "print (\"contador = \", contador)\n",
        "print (\"Quilômetros = \", quilometros)\n",
        "print (\"Nome = \", nome)"
      ],
      "execution_count": null,
      "outputs": [
        {
          "output_type": "stream",
          "text": [
            "contador =  100\n",
            "Quilômetros =  1000.345\n",
            "Nome =  Beatriz\n"
          ],
          "name": "stdout"
        }
      ]
    },
    {
      "cell_type": "markdown",
      "metadata": {
        "id": "2blhAwMBJiKG"
      },
      "source": [
        "É preciso destacara que os identificadores, não precisam ser explicitamente declarados antes de serem usados. A declaração e a inicialização de, por exemplo, uma variável ocorrem automaticamente. E esta atribuição reserva o espaço necessário na memória. Contudo, se um identificador for usado antes de ser inicializado o Python irá emitir um erro.\n",
        "\n"
      ]
    },
    {
      "cell_type": "code",
      "metadata": {
        "trusted": true,
        "id": "SAIWywYEJiKH",
        "colab": {
          "base_uri": "https://localhost:8080/",
          "height": 163
        },
        "outputId": "44f75696-ba76-4866-abe5-2a7290e00f47"
      },
      "source": [
        "coisa  # pressione ctrl-enter para ver o erro que será gerado."
      ],
      "execution_count": null,
      "outputs": [
        {
          "output_type": "error",
          "ename": "NameError",
          "evalue": "ignored",
          "traceback": [
            "\u001b[0;31m---------------------------------------------------------------------------\u001b[0m",
            "\u001b[0;31mNameError\u001b[0m                                 Traceback (most recent call last)",
            "\u001b[0;32m<ipython-input-18-c9527e393d97>\u001b[0m in \u001b[0;36m<module>\u001b[0;34m()\u001b[0m\n\u001b[0;32m----> 1\u001b[0;31m \u001b[0mcoisa\u001b[0m  \u001b[0;31m# pressione ctrl-enter para ver o erro que será gerado.\u001b[0m\u001b[0;34m\u001b[0m\u001b[0;34m\u001b[0m\u001b[0m\n\u001b[0m",
            "\u001b[0;31mNameError\u001b[0m: name 'coisa' is not defined"
          ]
        }
      ]
    },
    {
      "cell_type": "markdown",
      "metadata": {
        "id": "vo29IgwAJiKM"
      },
      "source": [
        "O Python também permite que sejam feitas atribuições múltiplas."
      ]
    },
    {
      "cell_type": "code",
      "metadata": {
        "trusted": true,
        "id": "GokVrS0eJiKN",
        "colab": {
          "base_uri": "https://localhost:8080/",
          "height": 68
        },
        "outputId": "68ef5e33-2924-440a-890f-65cf52271e99"
      },
      "source": [
        "coisa = treco = trem = 1 # desta forma, os três identificadores terão o mesmo valor\n",
        "# ou podemos listar indentificadores e valores separados por vírgulas \n",
        "coisa, treco, trem = 1, 2.45, 'Priscila'\n",
        "\n",
        "print(coisa)\n",
        "print(treco)\n",
        "print(trem)"
      ],
      "execution_count": null,
      "outputs": [
        {
          "output_type": "stream",
          "text": [
            "1\n",
            "2.45\n",
            "Priscila\n"
          ],
          "name": "stdout"
        }
      ]
    },
    {
      "cell_type": "markdown",
      "metadata": {
        "id": "8zqh45OWJiKU"
      },
      "source": [
        "Veremos, ao longo do curso, as operações de __packing__ e __unpacking__ do Python que facilitam a atribuição de multiplos valroes. \n",
        "\n",
        "Se misturarmos números reais (__float__) com números inteiros (___int___) todos os números serão convertidos para ___float___. Ou seja, em caso de operações entre reais e inteiros o resultado será sempre real."
      ]
    },
    {
      "cell_type": "code",
      "metadata": {
        "trusted": true,
        "id": "4PBlX9iBJiKV",
        "colab": {
          "base_uri": "https://localhost:8080/",
          "height": 34
        },
        "outputId": "f64d0902-c346-4b72-b9af-cc948503982d"
      },
      "source": [
        "3 * 3.75 / 1.5"
      ],
      "execution_count": null,
      "outputs": [
        {
          "output_type": "execute_result",
          "data": {
            "text/plain": [
              "7.5"
            ]
          },
          "metadata": {
            "tags": []
          },
          "execution_count": 20
        }
      ]
    },
    {
      "cell_type": "code",
      "metadata": {
        "trusted": true,
        "id": "kaujYj9EJiKd"
      },
      "source": [
        "7.0 / 2"
      ],
      "execution_count": null,
      "outputs": []
    },
    {
      "cell_type": "code",
      "metadata": {
        "id": "lnDS5ZXCVICs",
        "colab": {
          "base_uri": "https://localhost:8080/",
          "height": 34
        },
        "outputId": "0d8590af-4b34-490a-f927-c24b5019b463"
      },
      "source": [
        "# Você pode verificar o tipo de um valor, ou de um identificador. Usando o método type.\n",
        "type(7.0/2)\n"
      ],
      "execution_count": null,
      "outputs": [
        {
          "output_type": "execute_result",
          "data": {
            "text/plain": [
              "float"
            ]
          },
          "metadata": {
            "tags": []
          },
          "execution_count": 21
        }
      ]
    },
    {
      "cell_type": "markdown",
      "metadata": {
        "id": "AiuDN7yhJiKj"
      },
      "source": [
        "No modo interativo, tanto no desktop, quanto neste ambiente que estamos usando,  a última expressão avaliada é automaticamente atribuida a uma variável cujo identificador é apenas um _underline_  `_`. \n",
        "\n",
        "Este identificador `_` deve ser usada apenas para leitura. Não atribua valores a esta variável sob a pena de criar um erro ou tornar seu código ilegível.\n",
        "\n",
        "Talvez esta seja uma boa oportunidade para falar um pouco de [Edsger W. Dijkstra](https://en.wikipedia.org/wiki/Edsger_W._Dijkstra) um dos maiores cientistas da computação que já viveram. Ele costumava destacar que não existem _bugs_. \"_Bugs_(insetos) são criaturas vivas, enquanto chamarmos nossos erros de _bugs_ a ciência da computação ainda não estará madura\". Então, chame seus erros de erro e evite cometê-los.\n",
        "\n",
        "Deixando de lado, ou conceitos, e voltando para o Python, vamos ver mais alguns exemplos de uso de __numbers__ e do uso do identificador `_`. "
      ]
    },
    {
      "cell_type": "code",
      "metadata": {
        "trusted": true,
        "id": "LljevgTWJiKk",
        "colab": {
          "base_uri": "https://localhost:8080/",
          "height": 34
        },
        "outputId": "ba98e474-aca4-4563-9fc8-602e455cfe6e"
      },
      "source": [
        "# Vamos calcular o preço de um produto qualquer considerando, a grosso modo, uma espécie de imposto.\n",
        "percentual = 12.56787 / 37\n",
        "# Vamos atribuir um valor ao preço líquido\n",
        "precoLiquido = 40.0\n",
        "#agora podemos calular o preço de venda\n",
        "imposto = precoLiquido * percentual\n",
        "#e ver o resultado\n",
        "imposto"
      ],
      "execution_count": null,
      "outputs": [
        {
          "output_type": "execute_result",
          "data": {
            "text/plain": [
              "13.586886486486485"
            ]
          },
          "metadata": {
            "tags": []
          },
          "execution_count": 22
        }
      ]
    },
    {
      "cell_type": "code",
      "metadata": {
        "trusted": true,
        "id": "wgc70oHRJiKo",
        "colab": {
          "base_uri": "https://localhost:8080/",
          "height": 34
        },
        "outputId": "743ca51a-a304-4276-addd-428755101571"
      },
      "source": [
        "# usando a variável _ que contém o resultado da última expressão avaliada\n",
        "precoLiquido + _"
      ],
      "execution_count": null,
      "outputs": [
        {
          "output_type": "execute_result",
          "data": {
            "text/plain": [
              "53.586886486486485"
            ]
          },
          "metadata": {
            "tags": []
          },
          "execution_count": 23
        }
      ]
    },
    {
      "cell_type": "markdown",
      "metadata": {
        "id": "E_I_b39UJiKt"
      },
      "source": [
        "O Python usa o padrão IEEE 754. Dessa forma, a [precisão é limitada](https://docs.python.org/2/tutorial/floatingpoint.html) normalmente as linguagens de programação usam precisão simples (32 bits) ou dupla (64 bits). O Python usa apenas a precisão dupla. Ainda assim, os bits reservados para cada valor são divididos em três categorias, sinal, expoente e mantissa.  Este padrão é notório por produzir erros de arredondamenteo. Uma forma de minimizar estes erros, é utilizar uma função de arredondamento e limitar o número de casas decimais. "
      ]
    },
    {
      "cell_type": "code",
      "metadata": {
        "trusted": true,
        "id": "Moc-wObJJiKu",
        "colab": {
          "base_uri": "https://localhost:8080/",
          "height": 34
        },
        "outputId": "dc8977fa-6430-42f3-97c6-6741fb10d06d"
      },
      "source": [
        "# Comoe exemplo, vamos ver uma soma simples entre dois números reais. Faça a \n",
        "# soma de cabeça e depois rode a célula.\n",
        "1.1+2.2\n"
      ],
      "execution_count": null,
      "outputs": [
        {
          "output_type": "execute_result",
          "data": {
            "text/plain": [
              "3.3000000000000003"
            ]
          },
          "metadata": {
            "tags": []
          },
          "execution_count": 24
        }
      ]
    },
    {
      "cell_type": "markdown",
      "metadata": {
        "id": "UxYXq7WScNWF"
      },
      "source": [
        "Você nunca, jamais, em tempo algum deve comparar dois números reais em Python. E, para dizer a verdade, não deve compará-los na maioria das linguagens de programção. Por exemplo:\n"
      ]
    },
    {
      "cell_type": "code",
      "metadata": {
        "id": "Ci9GskFRcjLC",
        "colab": {
          "base_uri": "https://localhost:8080/",
          "height": 34
        },
        "outputId": "1ef17c31-b6b7-40c6-9234-bbd0dbc5df05"
      },
      "source": [
        "# O operador == é o operador para comparação lógica de dois valores. Se você executar\n",
        "# esta célula verá porque não podemos comparar valores reais.\n",
        "0.1+0.1+0.1==0.3"
      ],
      "execution_count": null,
      "outputs": [
        {
          "output_type": "execute_result",
          "data": {
            "text/plain": [
              "False"
            ]
          },
          "metadata": {
            "tags": []
          },
          "execution_count": 25
        }
      ]
    },
    {
      "cell_type": "code",
      "metadata": {
        "trusted": true,
        "id": "fEGMeUQeJiK1",
        "colab": {
          "base_uri": "https://localhost:8080/",
          "height": 34
        },
        "outputId": "9249b965-5341-4b44-956d-988a72c81133"
      },
      "source": [
        "# Para testar o arredondamento vamos arredondar a variável _ para duas casas decimais\n",
        "round(_, 2)"
      ],
      "execution_count": null,
      "outputs": [
        {
          "output_type": "execute_result",
          "data": {
            "text/plain": [
              "0"
            ]
          },
          "metadata": {
            "tags": []
          },
          "execution_count": 26
        }
      ]
    },
    {
      "cell_type": "markdown",
      "metadata": {
        "id": "J9naPFrrdBBX"
      },
      "source": [
        "E não se esqueça o resultado do método __round()__ não resolve o problema. Você apenas limita a imprecisão a uma valor que atenda sua necessidade imediata. Ainda assim, mesmo que tenha controle dos valores reais, não os compare. Esta comparação é outra fonte inesgotável de erros em programas.\n"
      ]
    },
    {
      "cell_type": "code",
      "metadata": {
        "id": "OEWQSDUqd7pN",
        "colab": {
          "base_uri": "https://localhost:8080/",
          "height": 34
        },
        "outputId": "f3b341a6-fc79-4af5-d4ac-524b25ac684a"
      },
      "source": [
        "teste = round(_,2)\n",
        "teste == round(_,2)"
      ],
      "execution_count": null,
      "outputs": [
        {
          "output_type": "execute_result",
          "data": {
            "text/plain": [
              "True"
            ]
          },
          "metadata": {
            "tags": []
          },
          "execution_count": 27
        }
      ]
    },
    {
      "cell_type": "markdown",
      "metadata": {
        "id": "v8O4htBUrQB4"
      },
      "source": [
        "Como disse antes, tudo é objeto. Então, se isso for verdade, mesmo um inteiro deve ter métodos associados a ele. Podemos verificar isso, usando alguns dos [métodos disponíveis](https://docs.python.org/3/library/stdtypes.html) para inteiros."
      ]
    },
    {
      "cell_type": "code",
      "metadata": {
        "id": "WfO9J2Xyrbzj",
        "colab": {
          "base_uri": "https://localhost:8080/",
          "height": 34
        },
        "outputId": "103f3ef8-fddc-4d7c-fa44-15196e38a182"
      },
      "source": [
        "n = 1+3+5\n",
        "# Vendo o valor identificado por n temos\n",
        "n\n",
        "# podemos agora descobrir quantos bits são necessários para representar este \n",
        "# valor usando o método bit_length()\n",
        "n.bit_length()"
      ],
      "execution_count": null,
      "outputs": [
        {
          "output_type": "execute_result",
          "data": {
            "text/plain": [
              "4"
            ]
          },
          "metadata": {
            "tags": []
          },
          "execution_count": 28
        }
      ]
    },
    {
      "cell_type": "code",
      "metadata": {
        "id": "s6u2k5UqsfuS",
        "colab": {
          "base_uri": "https://localhost:8080/",
          "height": 34
        },
        "outputId": "000f74b5-3600-4a2e-c946-e4c2fc69fe58"
      },
      "source": [
        "# O mesmo método aplicado a literais. \n",
        "# Os parenteses são necessários para garantir a aplicação correta do método.\n",
        "(1+2+5).bit_length()"
      ],
      "execution_count": null,
      "outputs": [
        {
          "output_type": "execute_result",
          "data": {
            "text/plain": [
              "4"
            ]
          },
          "metadata": {
            "tags": []
          },
          "execution_count": 29
        }
      ]
    },
    {
      "cell_type": "code",
      "metadata": {
        "id": "c368g6BitaqL",
        "colab": {
          "base_uri": "https://localhost:8080/",
          "height": 34
        },
        "outputId": "add0c75d-39c4-475d-9d24-8c44f387e70c"
      },
      "source": [
        "# Ou podemos converter um inteiro direto para bytes.\n",
        "# usando o método: to_bytes(length, byteorder, *, signed=False)\n",
        "(1024).to_bytes(4, byteorder='big')\n",
        "# represntado em bytes "
      ],
      "execution_count": null,
      "outputs": [
        {
          "output_type": "execute_result",
          "data": {
            "text/plain": [
              "b'\\x00\\x00\\x04\\x00'"
            ]
          },
          "metadata": {
            "tags": []
          },
          "execution_count": 30
        }
      ]
    },
    {
      "cell_type": "code",
      "metadata": {
        "id": "Kbzu2VjhvEVs",
        "colab": {
          "base_uri": "https://localhost:8080/",
          "height": 34
        },
        "outputId": "d7fc0f88-8eb7-4806-aa28-126904d02f7c"
      },
      "source": [
        "# Que podemos converter novamente para inteiro, usando o objeto int\n",
        "# para facilicatar vamos criar um identificador\n",
        "teste = (1024).to_bytes(4, byteorder='big')\n",
        "int.from_bytes(teste, byteorder='big')"
      ],
      "execution_count": null,
      "outputs": [
        {
          "output_type": "execute_result",
          "data": {
            "text/plain": [
              "1024"
            ]
          },
          "metadata": {
            "tags": []
          },
          "execution_count": 31
        }
      ]
    },
    {
      "cell_type": "markdown",
      "metadata": {
        "id": "byxqspXTv3kv"
      },
      "source": [
        "## Números Complexos\n",
        "O Python permite o uso de números complexos de forma nativa. Contudo, usando um `j` para indicar a parte imaginária. Então em Python temos números complexos na forma `1+3j`. "
      ]
    },
    {
      "cell_type": "code",
      "metadata": {
        "id": "YhaUABzVxtvY",
        "colab": {
          "base_uri": "https://localhost:8080/",
          "height": 34
        },
        "outputId": "18022699-9e23-4763-f062-8bd7c4735d5b"
      },
      "source": [
        "# Vamos criar um valor numérico complexo e atribuir un identificador\n",
        "complexo = 1+5j\n",
        "# Verificando o tipo deste valor\n",
        "type(complexo)"
      ],
      "execution_count": null,
      "outputs": [
        {
          "output_type": "execute_result",
          "data": {
            "text/plain": [
              "complex"
            ]
          },
          "metadata": {
            "tags": []
          },
          "execution_count": 32
        }
      ]
    },
    {
      "cell_type": "code",
      "metadata": {
        "id": "bsRQ7Fs5yBS3",
        "colab": {
          "base_uri": "https://localhost:8080/",
          "height": 34
        },
        "outputId": "718a881d-00f2-4e15-984f-a2a6edb3b331"
      },
      "source": [
        "# Podemos usar o método complex() para criar números complexos. \n",
        "complexo = complex(3,5)\n",
        "# inspecionando o valor criado\n",
        "complexo"
      ],
      "execution_count": null,
      "outputs": [
        {
          "output_type": "execute_result",
          "data": {
            "text/plain": [
              "(3+5j)"
            ]
          },
          "metadata": {
            "tags": []
          },
          "execution_count": 33
        }
      ]
    },
    {
      "cell_type": "code",
      "metadata": {
        "id": "V5T6i8Y7yPxX",
        "colab": {
          "base_uri": "https://localhost:8080/",
          "height": 51
        },
        "outputId": "44376d0d-c4c0-42b2-bfd8-386b1b40992d"
      },
      "source": [
        "# Sem dúvida, podemos operar com números complexos\n",
        "complexo = (3+4j)+complex(1,2)\n",
        "print(complexo)\n",
        "complexo = (3+4j)*6\n",
        "print(complexo)"
      ],
      "execution_count": null,
      "outputs": [
        {
          "output_type": "stream",
          "text": [
            "(4+6j)\n",
            "(18+24j)\n"
          ],
          "name": "stdout"
        }
      ]
    },
    {
      "cell_type": "markdown",
      "metadata": {
        "id": "BDIqG69Hypmt"
      },
      "source": [
        "Contudo, operações como o resto de uma divisão `\\\\` e módulo `%` não são válidas para números complexos. Também são objetos então podemos fazer referência aos componentes real e imáginário usando a notação ponto. Observe que o valor dos componentes real e imaginário e real.\n"
      ]
    },
    {
      "cell_type": "code",
      "metadata": {
        "id": "_dyx7tFczAsV",
        "colab": {
          "base_uri": "https://localhost:8080/",
          "height": 51
        },
        "outputId": "b5743faf-ae5a-4e81-a25f-687cb4903c79"
      },
      "source": [
        "print(complexo.real)\n",
        "print(complexo.imag)"
      ],
      "execution_count": null,
      "outputs": [
        {
          "output_type": "stream",
          "text": [
            "18.0\n",
            "24.0\n"
          ],
          "name": "stdout"
        }
      ]
    },
    {
      "cell_type": "code",
      "metadata": {
        "id": "wDeKPnBzzfeR",
        "colab": {
          "base_uri": "https://localhost:8080/",
          "height": 34
        },
        "outputId": "345a6cb8-33d4-4058-ec40-1ac7a0b9c0d5"
      },
      "source": [
        "# ou encontrar o conjugado de um determinado número complexo\n",
        "complexo.conjugate()"
      ],
      "execution_count": null,
      "outputs": [
        {
          "output_type": "execute_result",
          "data": {
            "text/plain": [
              "(18-24j)"
            ]
          },
          "metadata": {
            "tags": []
          },
          "execution_count": 36
        }
      ]
    },
    {
      "cell_type": "markdown",
      "metadata": {
        "id": "YWEkOlJf0-RS"
      },
      "source": [
        "A matemática com números complexos é, por falta de palavra melhor, complexa. Dito isso, é importante ressaltar que dispomos de uma biblioteca de funções matemáticas para trato de números complexos, a `cmath`. \n",
        "\n",
        "A partir deste momento vou começar a trabalhar com bibliotecas de forma _lazy_ e só importar a bibloteca quando ela for necessária. Por exemplo, a fase, de um número complexo é o ângulo que o vetor que representa a parte imaginária faz com o eixo dos reais. Se quisermos calcular a fase podemos:"
      ]
    },
    {
      "cell_type": "code",
      "metadata": {
        "id": "aXOVhF7Q14Io",
        "colab": {
          "base_uri": "https://localhost:8080/",
          "height": 34
        },
        "outputId": "354efaf7-b55e-430d-f601-8bdf027100b7"
      },
      "source": [
        "import cmath\n",
        "\n",
        "c = 5 + 4j\n",
        "\n",
        "# fase\n",
        "fase = cmath.phase(c)\n",
        "# o valor devolvido está em radianos.\n",
        "print('fase =', fase)\n"
      ],
      "execution_count": null,
      "outputs": [
        {
          "output_type": "stream",
          "text": [
            "fase = 0.6747409422235526\n"
          ],
          "name": "stdout"
        }
      ]
    },
    {
      "cell_type": "markdown",
      "metadata": {
        "id": "XGcoHG-w32cl"
      },
      "source": [
        "A biblioteca `cmath` contém um conjunto de constantes para uso nos seus módulos que também estarão disponíveis para seus programas."
      ]
    },
    {
      "cell_type": "code",
      "metadata": {
        "id": "PjfSH1mZ4DpE",
        "colab": {
          "base_uri": "https://localhost:8080/",
          "height": 119
        },
        "outputId": "cd2e4b69-17b8-4b54-d766-87dd18cd1454"
      },
      "source": [
        "print('π =', cmath.pi)\n",
        "print('e =', cmath.e)\n",
        "print('tau =', cmath.tau)\n",
        "print('Infinito positivo =', cmath.inf)\n",
        "print('Infinito positivo complexo =', cmath.infj)\n",
        "print('NaN Complexo =', cmath.nanj)"
      ],
      "execution_count": null,
      "outputs": [
        {
          "output_type": "stream",
          "text": [
            "π = 3.141592653589793\n",
            "e = 2.718281828459045\n",
            "tau = 6.283185307179586\n",
            "Infinito positivo = inf\n",
            "Infinito positivo complexo = infj\n",
            "NaN Complexo = nanj\n"
          ],
          "name": "stdout"
        }
      ]
    },
    {
      "cell_type": "markdown",
      "metadata": {
        "id": "QD4VsFKZ4V9c"
      },
      "source": [
        "Além, é claro de todas as funções matemáticas que são comumente utilizadas em cálculos com números complexos. Este é um bom momento para você parar e ler [Removendo um pouco da sujeira sobre os pontos flutuantes](https://frankalcantara.com/pontos-flutuantes/)"
      ]
    },
    {
      "cell_type": "code",
      "metadata": {
        "id": "wuYVUsH44fnu",
        "colab": {
          "base_uri": "https://localhost:8080/",
          "height": 102
        },
        "outputId": "f61650c4-d3c3-4f4d-8e9b-2539b6ed1ac8"
      },
      "source": [
        "complexo = 3 + 4j\n",
        "# Para calcular o módul ode um número complexo\n",
        "modulo = abs(complexo)\n",
        "\n",
        "fase = cmath.phase(complexo)\n",
        "# Representar este número complexo em coordenadas polarees\n",
        "polar = cmath.polar(complexo)\n",
        "\n",
        "print('Modulo =', modulo)\n",
        "print('Fase =', fase)\n",
        "print('Coordenadas Polares =', polar)\n",
        "# Para converter em coordenadas retangulares\n",
        "print('Coordenadas retangulares =', (cmath.rect(modulo, fase)))\n",
        "# e temos os erros provodados pelo padrão IEEE 754 que a gente pode mitigar\n",
        "# usando um pouco de imaginação e arredondamento \n",
        "print (complex(round(cmath.rect(modulo, fase).real), round(cmath.rect(modulo, fase).imag))) "
      ],
      "execution_count": null,
      "outputs": [
        {
          "output_type": "stream",
          "text": [
            "Modulo = 5.0\n",
            "Fase = 0.9272952180016122\n",
            "Coordenadas Polares = (5.0, 0.9272952180016122)\n",
            "Coordenadas retangulares = (3.0000000000000004+3.9999999999999996j)\n",
            "(3+4j)\n"
          ],
          "name": "stdout"
        }
      ]
    },
    {
      "cell_type": "markdown",
      "metadata": {
        "id": "CPb1JeKc8PUt"
      },
      "source": [
        "  Os números complexos são fundamentais em cálculos de circuitos elétricos com correntes alternadas, eletromagnetismo e computação quântica e, apesar de existirem algumas aplicações em aprendizado de máquina vamos deixá-los de lado neste curso. Voltaremos a eles em um curso de computação quântica."
      ]
    },
    {
      "cell_type": "markdown",
      "metadata": {
        "id": "gvDWOfaHJiK5"
      },
      "source": [
        "## Frações\n",
        "\n",
        "Além dos tipos `int` and `float`, com os tipos : [`Decimal`](https://docs.python.org/3.5/library/decimal.html#decimal.Decimal), [complex numbers](https://docs.python.org/3.5/library/stdtypes.html#typesnumeric). e [`Fraction`](https://docs.python.org/3.5/library/fractions.html#fractions.Fraction), este último por meio de uma biblioteca especialmente criada para isso. \n",
        "\n",
        "A classe [`Fraction`](https://docs.python.org/3.5/library/fractions.html#fractions.Fraction) permite a instancia de objetos para a manipulação de números do conjunto dos Racionais (frações), a razão entre dois inteiros. Lembre que a biblioteca fractions foi importada anteriormente quando vimos os comandos para a importação de bibliotecas. Podemos chamar o objeto __Fraction__ usando seu _costructor__ sempre na forma: __Fraction(numerador,denominador)__\n"
      ]
    },
    {
      "cell_type": "code",
      "metadata": {
        "trusted": true,
        "id": "99JbRPMQJiK7",
        "colab": {
          "base_uri": "https://localhost:8080/",
          "height": 34
        },
        "outputId": "2a7bac17-d487-4509-bf9a-47cc20a67886"
      },
      "source": [
        "# O retorno do método Fraction é automatiamente formatado pelo comando print\n",
        "print(Fraction(2,5))"
      ],
      "execution_count": null,
      "outputs": [
        {
          "output_type": "stream",
          "text": [
            "2/5\n"
          ],
          "name": "stdout"
        }
      ]
    },
    {
      "cell_type": "code",
      "metadata": {
        "trusted": true,
        "id": "Nx5HushiJiLA",
        "colab": {
          "base_uri": "https://localhost:8080/",
          "height": 34
        },
        "outputId": "a13042ba-7a1e-456a-a937-dea80916c663"
      },
      "source": [
        "#podemos também usar strings na forma \"numerador/denominador\"\n",
        "print(Fraction(\"3/5\"))"
      ],
      "execution_count": null,
      "outputs": [
        {
          "output_type": "stream",
          "text": [
            "3/5\n"
          ],
          "name": "stdout"
        }
      ]
    },
    {
      "cell_type": "code",
      "metadata": {
        "trusted": true,
        "id": "Ej1llcdXJiLF",
        "colab": {
          "base_uri": "https://localhost:8080/",
          "height": 34
        },
        "outputId": "a62e2e23-7f13-44cf-db80-66719267bae0"
      },
      "source": [
        "#se não usar o print o comando devolve um objeto da classe Fraction\n",
        "Fraction(\"12/45\")"
      ],
      "execution_count": null,
      "outputs": [
        {
          "output_type": "execute_result",
          "data": {
            "text/plain": [
              "Fraction(4, 15)"
            ]
          },
          "metadata": {
            "tags": []
          },
          "execution_count": 55
        }
      ]
    },
    {
      "cell_type": "markdown",
      "metadata": {
        "id": "YL89CjDbJiLJ"
      },
      "source": [
        "Podemos tentar transformar um número irracional em uma fração aproximada.\n",
        "Para isso podemos usar o método _limit_denominator()_ passando para ele o limite desejado.\n",
        "O objeto da classe fractions tentará criar uma fração que atenda a a aproximação que você determinou com o comprimento do denominador. Não esqueça, estamos lidando com números representados no padrão __IEEE 754__ e tenha sempre em mente que podemos ter erros de aproximação.\n",
        "\n"
      ]
    },
    {
      "cell_type": "code",
      "metadata": {
        "trusted": true,
        "id": "vWdvwGLhJiLK",
        "colab": {
          "base_uri": "https://localhost:8080/",
          "height": 34
        },
        "outputId": "705c14fa-dd5c-443c-9118-fa8171f49d8f"
      },
      "source": [
        "print(Fraction('3.1415926535897932').limit_denominator(1000)) # utilizando números racionais"
      ],
      "execution_count": null,
      "outputs": [
        {
          "output_type": "stream",
          "text": [
            "355/113\n"
          ],
          "name": "stdout"
        }
      ]
    },
    {
      "cell_type": "code",
      "metadata": {
        "trusted": true,
        "id": "QDZOVkSfJiLO",
        "colab": {
          "base_uri": "https://localhost:8080/",
          "height": 34
        },
        "outputId": "b4dd067c-9cde-47be-a3fb-33757fb59067"
      },
      "source": [
        "# O número de casas decimais na representação real também tem impacto no resultado.\n",
        "print(Fraction('3.14').limit_denominator(100)) # utilizando números racionais"
      ],
      "execution_count": null,
      "outputs": [
        {
          "output_type": "stream",
          "text": [
            "157/50\n"
          ],
          "name": "stdout"
        }
      ]
    },
    {
      "cell_type": "code",
      "metadata": {
        "id": "h8Wh-_nyhR5o",
        "colab": {
          "base_uri": "https://localhost:8080/",
          "height": 34
        },
        "outputId": "e626457f-6541-47a9-f32b-6646ef0d1f88"
      },
      "source": [
        "print(Fraction(pi).limit_denominator(100)) # utilizando números racionais\n"
      ],
      "execution_count": null,
      "outputs": [
        {
          "output_type": "stream",
          "text": [
            "311/99\n"
          ],
          "name": "stdout"
        }
      ]
    },
    {
      "cell_type": "code",
      "metadata": {
        "trusted": true,
        "id": "Gm5qOrS1JiLS",
        "colab": {
          "base_uri": "https://localhost:8080/",
          "height": 34
        },
        "outputId": "5944250f-f8f2-4bab-fbf5-d2c91537c627"
      },
      "source": [
        "# Ou podemos converter números reais em racionais sempre que possível\n",
        "Fraction(2.5)"
      ],
      "execution_count": null,
      "outputs": [
        {
          "output_type": "execute_result",
          "data": {
            "text/plain": [
              "Fraction(5, 2)"
            ]
          },
          "metadata": {
            "tags": []
          },
          "execution_count": 59
        }
      ]
    },
    {
      "cell_type": "code",
      "metadata": {
        "trusted": true,
        "id": "cIMy85WwJiLc",
        "colab": {
          "base_uri": "https://localhost:8080/",
          "height": 102
        },
        "outputId": "e5ea2afe-84fb-4e3e-8488-5f153a36e73e"
      },
      "source": [
        "# E, sem dúvida, podemos usar operações matemáticas\n",
        "print('Soma: ' + str(Fraction('5/4') + Fraction('9/4')))\n",
        "print('Subtração: ' + str(Fraction('5/24') - Fraction('2/8')))\n",
        "print('Multplicação: ' + str(Fraction('2/3') * Fraction('5/7')))\n",
        "print('Divisão: ' + str(Fraction('70/120') / Fraction('13/45')))\n",
        "print('Potenciação: ' + str(Fraction('5/6') ** 3))"
      ],
      "execution_count": null,
      "outputs": [
        {
          "output_type": "stream",
          "text": [
            "Soma: 7/2\n",
            "Subtração: -1/24\n",
            "Multplicação: 10/21\n",
            "Divisão: 105/52\n",
            "Potenciação: 125/216\n"
          ],
          "name": "stdout"
        }
      ]
    },
    {
      "cell_type": "markdown",
      "metadata": {
        "id": "Hj9ajOcAJiLh"
      },
      "source": [
        "Por fim, podemos acessar os termos da fração ou imprimir o resultado na forma de ___strings___. Ainda não falamos disso mas, __strings__ são conjuntos ordenados de símbolos. Também são um dos tipos primitivos em Python, vamos ver __strings__ com mais atenção em outro _notebook_."
      ]
    },
    {
      "cell_type": "code",
      "metadata": {
        "trusted": true,
        "id": "r1ntgNpKJiLi",
        "colab": {
          "base_uri": "https://localhost:8080/",
          "height": 35
        },
        "outputId": "20171758-16c4-4073-d7e4-4442fecf0894"
      },
      "source": [
        "str(Fraction('3/16')/Fraction('1/8'))"
      ],
      "execution_count": null,
      "outputs": [
        {
          "output_type": "execute_result",
          "data": {
            "application/vnd.google.colaboratory.intrinsic+json": {
              "type": "string"
            },
            "text/plain": [
              "'3/2'"
            ]
          },
          "metadata": {
            "tags": []
          },
          "execution_count": 61
        }
      ]
    },
    {
      "cell_type": "markdown",
      "metadata": {
        "id": "HASR4LNKkz4Z"
      },
      "source": [
        "Anteriormente importamos a classe __Fraction__ da biblioteca __fractions__ uma vez que esta classe foi imporada podemos criar objetos e usar os seus métodos. Esta é a forma que usamos para acessar os fatores de uma determinada fração. \n"
      ]
    },
    {
      "cell_type": "code",
      "metadata": {
        "trusted": true,
        "id": "D8ZK0WUcJiLm",
        "colab": {
          "base_uri": "https://localhost:8080/",
          "height": 34
        },
        "outputId": "a0a273e3-a238-4cb1-b24f-b3965dd96706"
      },
      "source": [
        "# Instancia dois objetos do tipo fração, divide uma fração pela outra e atribui \n",
        "# o resultado, um objeto Fraction, ao identificador n\n",
        "n = Fraction(3,2)/Fraction('5/2')\n",
        "# A partir deste ponto podemos operar com este identificador\n",
        "print(\"o numerador é:\", n.numerator, \" e o denominador: \", n.denominator, \"o triplo de n é\", 3*n)"
      ],
      "execution_count": null,
      "outputs": [
        {
          "output_type": "stream",
          "text": [
            "o numerador é: 3  e o denominador:  5 o triplo de n é 9/5\n"
          ],
          "name": "stdout"
        }
      ]
    },
    {
      "cell_type": "code",
      "metadata": {
        "trusted": true,
        "id": "Me0s1ZWZJiLq",
        "colab": {
          "base_uri": "https://localhost:8080/",
          "height": 34
        },
        "outputId": "b66c12db-4123-4378-fa1f-4f170768b892"
      },
      "source": [
        "# Automaticamente a classe Fraction irá reduzir a fração a sua forma mais simples ou, pelo menos tenta...\n",
        "Fraction(44,11)\n"
      ],
      "execution_count": null,
      "outputs": [
        {
          "output_type": "execute_result",
          "data": {
            "text/plain": [
              "Fraction(4, 1)"
            ]
          },
          "metadata": {
            "tags": []
          },
          "execution_count": 63
        }
      ]
    },
    {
      "cell_type": "markdown",
      "metadata": {
        "id": "HXmWLtqcl6im"
      },
      "source": [
        "Outra coisa interessante que precisa ser destacada é que sempre que existir um objeto da classe __Fraction__ em uma operação, o resultado será em forma de __Fraction__. "
      ]
    },
    {
      "cell_type": "code",
      "metadata": {
        "id": "iGEzi-0smHXi",
        "colab": {
          "base_uri": "https://localhost:8080/",
          "height": 34
        },
        "outputId": "2bf87fbf-85f0-45de-f2c3-fd4889bcca26"
      },
      "source": [
        "Fraction(1,2)+1+Fraction(3,8)"
      ],
      "execution_count": null,
      "outputs": [
        {
          "output_type": "execute_result",
          "data": {
            "text/plain": [
              "Fraction(15, 8)"
            ]
          },
          "metadata": {
            "tags": []
          },
          "execution_count": 64
        }
      ]
    },
    {
      "cell_type": "markdown",
      "metadata": {
        "id": "BlSbob6EmbEj"
      },
      "source": [
        "Exceto, é claro, se na operação existir um número real. Neste caso, o resultado será sempre um número real."
      ]
    },
    {
      "cell_type": "code",
      "metadata": {
        "id": "W1fo8ueTmkKV",
        "colab": {
          "base_uri": "https://localhost:8080/",
          "height": 34
        },
        "outputId": "2071e331-4bb5-449d-a5f0-645eaf2d48f2"
      },
      "source": [
        "Fraction(1,2)+1.4+Fraction(3,8)"
      ],
      "execution_count": null,
      "outputs": [
        {
          "output_type": "execute_result",
          "data": {
            "text/plain": [
              "2.275"
            ]
          },
          "metadata": {
            "tags": []
          },
          "execution_count": 65
        }
      ]
    },
    {
      "cell_type": "markdown",
      "metadata": {
        "id": "yDJP9L9HJiLv"
      },
      "source": [
        "## Decimais\n",
        "\n",
        "A biblioteca decimal, anteriormente importada neste _notebook_ disponibiliza uma classe especificamente criada para permitir uma aritmética que se comporte, em um computador, da mesma forma que aprendemos na escola. \n",
        "\n"
      ]
    },
    {
      "cell_type": "code",
      "metadata": {
        "trusted": true,
        "id": "ue9BGDI_JiLy",
        "colab": {
          "base_uri": "https://localhost:8080/",
          "height": 34
        },
        "outputId": "5dddebee-3e01-41d8-d164-31165a294fc6"
      },
      "source": [
        "# Vamos começar revendo um exemplo simples rode esta célula\n",
        "1.1+2.2\n"
      ],
      "execution_count": null,
      "outputs": [
        {
          "output_type": "execute_result",
          "data": {
            "text/plain": [
              "3.3000000000000003"
            ]
          },
          "metadata": {
            "tags": []
          },
          "execution_count": 66
        }
      ]
    },
    {
      "cell_type": "markdown",
      "metadata": {
        "id": "67KOdhgrJiL5"
      },
      "source": [
        "Quando você entra um número real, usando um ponto, o Python infere que o tipo deste número é _float_ e usa o padrão __IEEE 754__. Como há um limite para o número de bits que usamos para representar a mantissa e o expoente, não é raro termos erros nas últimas casas decimais. Este resultado, ainda que computacionalmente correto, contradiz o senso comum, não é o que esperamos desta operação de soma e este erro de $3\\times10^{-16}$ pode ser acumulado ao longo de milhares de operações e se tornar muito significante. Mesmo que este acumulo de erro não ocorra, ainda é um erro.\n"
      ]
    },
    {
      "cell_type": "code",
      "metadata": {
        "trusted": true,
        "id": "gdmNRhCcJiL6",
        "colab": {
          "base_uri": "https://localhost:8080/",
          "height": 51
        },
        "outputId": "a527357e-e57d-4eca-84e8-5168d5549633"
      },
      "source": [
        "# Podemos usar algums exemplos para observar a inferência de tipos em python\n",
        "c = 4 # O interpretador vai considerar como sendo um int\n",
        "d = 3.14 # O interpretador vai considerar como um float \n",
        "print(type(c))\n",
        "print(type(d))"
      ],
      "execution_count": null,
      "outputs": [
        {
          "output_type": "stream",
          "text": [
            "<class 'int'>\n",
            "<class 'float'>\n"
          ],
          "name": "stdout"
        }
      ]
    },
    {
      "cell_type": "markdown",
      "metadata": {
        "id": "01snqH9GcYWW"
      },
      "source": [
        "Podemos, por outro lado, usar a classe _decimal_ para declarar valores decimais, de ponto fixo e com a noção de casas siginificantes de forma que __1.50 + 3.00__ resultar[a em __4.50__ vamos ver alguns exemplos"
      ]
    },
    {
      "cell_type": "code",
      "metadata": {
        "trusted": true,
        "id": "8UdYhW3EJiMA",
        "colab": {
          "base_uri": "https://localhost:8080/",
          "height": 544
        },
        "outputId": "732d67ba-43cf-4dd3-da3e-2dc622a6be01"
      },
      "source": [
        "from decimal import Decimal as decimal\n",
        "# Declarando valores reais na classe decimal\n",
        "a = decimal('5.1')\n",
        "b = decimal('3.14')\n",
        "# Agora podemos estudar o resultado de  algumas operações básicas\n",
        "# e os tipos dos valores que estamos criando\n",
        "print(\"Estes são os valores declarados \\n\\n\")\n",
        "print ('a =', a, \"o tipo de a é\", type(a),'\\n')\n",
        "print ('b =', b, \"o tipo de b é\", type(b),'\\n')\n",
        "print ('c =', c, \"o tipo de c é\", type(c),'\\n')\n",
        "print ('d =', d, \"o tipo de d é\", type(d),'\\n')\n",
        "# Operações básicas entre valores numéricos\n",
        "print(\"Operações entre estes valores\\n\\n\")\n",
        "print ('a + b =', a + b, \"o tipo do resultado é\", type(a+b),'\\n')\n",
        "print ('a - b =', a - b, \"o tipo do resultado é\", type(a-b),'\\n')\n",
        "print ('a * b =', a * b, \"o tipo do resultado é\", type(a*b),'\\n')\n",
        "print ('a / b =', a / b, \"o tipo do resultado é\", type(a/b),'\\n')\n",
        "print ('a + c =', a + c, \"o tipo do resultado é\", type(a+c),'\\n')\n",
        "print ('a - c =', a - c, \"o tipo do resultado é\", type(a-c),'\\n')\n",
        "print ('a * c =', a * c, \"o tipo do resultado é\", type(a*c),'\\n')\n",
        "print ('a / c =', a / c, \"o tipo do resultado é\", type(a/c),'\\n')\n",
        "\n",
        "# reproduzindo o erro \n",
        "e = decimal('1.1')\n",
        "f = decimal('2.2')\n",
        "print('e + f =', e+f, \"o tipo de e+f é\", type(e+f))"
      ],
      "execution_count": null,
      "outputs": [
        {
          "output_type": "stream",
          "text": [
            "Estes são os valores declarados \n",
            "\n",
            "\n",
            "a = 5.1 o tipo de a é <class 'decimal.Decimal'> \n",
            "\n",
            "b = 3.14 o tipo de b é <class 'decimal.Decimal'> \n",
            "\n",
            "c = 4 o tipo de c é <class 'int'> \n",
            "\n",
            "d = 3.14 o tipo de d é <class 'float'> \n",
            "\n",
            "Operações entre estes valores\n",
            "\n",
            "\n",
            "a + b = 8.24 o tipo do resultado é <class 'decimal.Decimal'> \n",
            "\n",
            "a - b = 1.96 o tipo do resultado é <class 'decimal.Decimal'> \n",
            "\n",
            "a * b = 16.014 o tipo do resultado é <class 'decimal.Decimal'> \n",
            "\n",
            "a / b = 1.624203821656050955414012739 o tipo do resultado é <class 'decimal.Decimal'> \n",
            "\n",
            "a + c = 9.1 o tipo do resultado é <class 'decimal.Decimal'> \n",
            "\n",
            "a - c = 1.1 o tipo do resultado é <class 'decimal.Decimal'> \n",
            "\n",
            "a * c = 20.4 o tipo do resultado é <class 'decimal.Decimal'> \n",
            "\n",
            "a / c = 1.275 o tipo do resultado é <class 'decimal.Decimal'> \n",
            "\n",
            "e + f = 3.3 o tipo de e+f é <class 'decimal.Decimal'>\n"
          ],
          "name": "stdout"
        }
      ]
    },
    {
      "cell_type": "code",
      "metadata": {
        "trusted": true,
        "id": "yJ4z_9fiJiME",
        "colab": {
          "base_uri": "https://localhost:8080/",
          "height": 238
        },
        "outputId": "14d28b92-e450-462d-f4ea-4065b398eaaa"
      },
      "source": [
        "# Determinando o número de casas significativas depois do ponto decimal\n",
        "getcontext().prec = 6 # significa que teremos cinco casas depois do ponto\n",
        "\n",
        "# Outra coisa muito interessante é que podemos controlar o número de dígitos \n",
        "# que usaremos nas operações com esta classe \n",
        "# decimal.getcontext().prec = 5\n",
        "# este comando muda a precisão para todo o programa, no Jupyter Notebook\n",
        "# esta precisão irá valer para todas as células a seguir\n",
        "a = decimal('5.1')\n",
        "b = decimal('3.1415926')\n",
        "c = 4\n",
        "d = 3.1415926\n",
        "e = decimal('1.1')\n",
        "f = decimal('2.2')\n",
        "\n",
        "print ('a =', a)\n",
        "print ('b =', b)\n",
        "print ('c =', c)\n",
        "print ('d =', d)\n",
        "print ('a + b =', a + b)\n",
        "print ('a - b =', a - b)\n",
        "print ('a * b =', a * b)\n",
        "print ('a / b =', a / b)\n",
        "print ('a + c =', a + c)\n",
        "print ('a - c =', a - c)\n",
        "\n",
        "print ('a * c =', a * c)\n",
        "print ('a / c =', a / c)\n",
        "print('e + f =', e+f)\n"
      ],
      "execution_count": null,
      "outputs": [
        {
          "output_type": "stream",
          "text": [
            "a = 5.1\n",
            "b = 3.1415926\n",
            "c = 4\n",
            "d = 3.1415926\n",
            "a + b = 8.24159\n",
            "a - b = 1.95841\n",
            "a * b = 16.0221\n",
            "a / b = 1.62338\n",
            "a + c = 9.1\n",
            "a - c = 1.1\n",
            "a * c = 20.4\n",
            "a / c = 1.275\n",
            "e + f = 3.3\n"
          ],
          "name": "stdout"
        }
      ]
    },
    {
      "cell_type": "code",
      "metadata": {
        "trusted": true,
        "id": "qGNEmzJrJiML",
        "colab": {
          "base_uri": "https://localhost:8080/",
          "height": 68
        },
        "outputId": "3180edb3-bb22-4b3e-e820-02b3392e0aa7"
      },
      "source": [
        "num = decimal('2.67545678')\n",
        "print(num) \n",
        "print(num +1)\n",
        "print(round(num, 4))\n",
        "# mas, observe que para o round() funcionar, o número de digitos significativos\n",
        "# deve ser maior que o número de casas para arredondamento."
      ],
      "execution_count": null,
      "outputs": [
        {
          "output_type": "stream",
          "text": [
            "2.67545678\n",
            "3.67546\n",
            "2.6755\n"
          ],
          "name": "stdout"
        }
      ]
    },
    {
      "cell_type": "markdown",
      "metadata": {
        "id": "GzrFnKB6JiMT"
      },
      "source": [
        "### Funções Decimais\n",
        "A Classe _Decimal_  também inclui um conjunto de funções matemáticas, pré-definidas e adaptadas para o uso com este _tipo de valor_ estas funções pondem ser encontradas em [General Decimal Arithmetic](http://speleotrove.com/decimal/decarith.html). Se for utilizar __Decimal__ nos seus programas, deve dedicar algum tempo ao estudo deste documento."
      ]
    },
    {
      "cell_type": "code",
      "metadata": {
        "id": "YkK2NfppjZHL",
        "colab": {
          "base_uri": "https://localhost:8080/",
          "height": 68
        },
        "outputId": "41874780-65ed-4dfa-fbc8-ad9c44e2db0c"
      },
      "source": [
        "# Exemplo de Função logaritmica na classe Decimal\n",
        "#observe que aqui ainda está valendo precisão que definimos algumas células acima\n",
        "d = decimal(200) #definindo um objeto da classe decimal\n",
        "print ('d     :', d)\n",
        "print ('log10 :', d.log10())  # usando o objeto com a notação ponto.\n",
        "print ('ln    :', d.ln())"
      ],
      "execution_count": null,
      "outputs": [
        {
          "output_type": "stream",
          "text": [
            "d     : 200\n",
            "log10 : 2.30103\n",
            "ln    : 5.29832\n"
          ],
          "name": "stdout"
        }
      ]
    },
    {
      "cell_type": "markdown",
      "metadata": {
        "id": "wotiwfdxjafz"
      },
      "source": [
        "# Considerações importantes\n",
        "\n",
        "Não esqueça, tanto __Fractions__ quando __Decimal__ são módulos de classes. Isto quer dizer que sempre que utilizar uma destas classes e instanciar um objeto para trabalhar com estes valores. Estará trazendo para a memória todos o custo de se operar com objetos. Estes não são tipos primitivos e, desta forma, requerem muito mais recursos para o seu processamento. \n",
        "\n",
        "Além dos tipos primitivos, que começamos a estudar neste _notebook_ nos __ints__ e __floats__ o Python possui um conjunto de valores especiais: __NaN__ e __Infinity__ são dois deles. \n",
        "\n",
        "E esta é a sua segunda chance de ler [Removendo um pouco da sujeira sobre os pontos flutuantes](https://frankalcantara.com/pontos-flutuantes/)\n"
      ]
    },
    {
      "cell_type": "code",
      "metadata": {
        "trusted": true,
        "id": "awos6_wqJiMQ",
        "colab": {
          "base_uri": "https://localhost:8080/",
          "height": 136
        },
        "outputId": "de3bfd43-cba2-4773-cc0e-f2a86ae4b67a"
      },
      "source": [
        "# Temos valores especiais em python, considerando um array com estes valores\n",
        "# E um exemplo usando um laço for\n",
        "for value in [ 'Infinity', 'NaN', '0' ]:\n",
        "    print (decimal(value), decimal('-' + value))\n",
        "print\n",
        "\n",
        "# Por incrível que pareça podemos fazer cálculos com infinto\n",
        "print ('Infinito + 1:', (decimal('Infinity') + 1))\n",
        "print ('-Infinito + 1:', (decimal('-Infinity') + 1))\n",
        "\n",
        "# Ou comparações com NaN e Infinity\n",
        "print (decimal('NaN') == decimal('Infinity'))\n",
        "print (decimal('NaN') != decimal(1))"
      ],
      "execution_count": null,
      "outputs": [
        {
          "output_type": "stream",
          "text": [
            "Infinity -Infinity\n",
            "NaN -NaN\n",
            "0 -0\n",
            "Infinito + 1: Infinity\n",
            "-Infinito + 1: -Infinity\n",
            "False\n",
            "True\n"
          ],
          "name": "stdout"
        }
      ]
    },
    {
      "cell_type": "markdown",
      "metadata": {
        "id": "NkWSUWZTJiMb"
      },
      "source": [
        "# Exemplo\n",
        "A seguir, temos um pequemo programa em Python para fazer as quatro operações. Lembre-se que o Python usa _tabs_, para definir blocos de código. Desta forma, enquanto outras linguagems usam símbolos como chaves __{}__ para marcar um bloco determinado, em Python, tudo que você precisa fazer é manter a __identação__ do código. Isto parece tornar o código mais fácil de ler mas, também é uma fonte de problemas para quem está começando a utilizar a linguagem. \n",
        "\n",
        "O exemplo a seguir demonstra a o uso do laço __while__ e funções. Em Python, funções são definidas pela palavra chave __def__ .\n",
        "\n",
        "Neste exemplo usaremos identificadores, para nomear funções e para criar variáveis. Só para lembrar, em Python os identificadores começam com uma letra A-Z ou a-z, ou ainda com um sublinhado (__underscore__) e podem possuir letras, sublinhados ou dígitos (0-9), mas não podem possuir os símbolos @, $, e %.\n",
        "\n",
        "O Python é uma linguagem sensível a diferença entre letras maiúsculas e letras minúsculas. Assim, __Abc__ é um identificador diferente de __aBc__, __abc__, ou qualquer outra combinação de maiúsculas e minúsculas. \n",
        "\n",
        "Sempre que programar, deve se apegar as boas práticas da linguagem que está usando aqui usamos algumas regras para a criação de identificadores que são muito adotadas em Python:\n",
        "- Nomes de classes começam com letras maiúsculas.\n",
        "- Todos os outros identificadores devem começar com uma letra minúscula.\n",
        "- Usamos identificadores começando com dois sublinhados para identificar métodos privados.\n",
        "- Se o identificador comecar com dois sublinhados e terminar com outros dois, então temos um identificador especial, definido na própria linguagem.\n",
        "\n"
      ]
    },
    {
      "cell_type": "code",
      "metadata": {
        "trusted": true,
        "id": "lclkyfHpJiMc",
        "colab": {
          "base_uri": "https://localhost:8080/",
          "height": 170
        },
        "outputId": "12c927d9-4dc0-4ee0-b322-e5c1a12dd7b4"
      },
      "source": [
        "# Programa para fazer a mais simples calculadora possível, usando funções\n",
        "\n",
        "# Isto é uma função. Usamos a palavra chave def para indicar o código de uma função\n",
        "# esta se chama soma vai receber dois parâmetros, x e y e vai devolver a soma dos dois\n",
        "def soma(x, y):\n",
        "    return x + y\n",
        "\n",
        "# outra função: se chama subtrai, vai receber dois parâmetros, x, y e devolver a subtração de x - y\n",
        "def subtrai(x, y):\n",
        "    return x - y\n",
        "\n",
        "# outra, de multiplicação\n",
        "def multiplica(x, y):\n",
        "    return x * y\n",
        "\n",
        "# Esta função precisa de um pouco de cuidado\n",
        "#vamos usar try, except, else para capturar o erro de divisão por zero.\n",
        "#na cláusula try colocamos a expressão;\n",
        "#na cláusula except a excessão que queremos capturar. Veja https://docs.python.org/3/tutorial/errors.html\n",
        "#na cláusula else, o que queremos fazer se não existir opções\n",
        "def divide(x, y):\n",
        "   try:\n",
        "       x / y\n",
        "   except ZeroDivisionError:\n",
        "        return \"imposssível\"\n",
        "   else:\n",
        "     return x / y\n",
        "\n",
        "#para criar um menu  \n",
        "print(\"Selecione a Operação.\")\n",
        "print(\"1.Soma\")\n",
        "print(\"2.Subtrai\")\n",
        "print(\"3.Multiplica\")\n",
        "print(\"4.Divide\")\n",
        "\n",
        "#este é um laço\n",
        "while True:\n",
        "    #vai aguardar uma entrada do usuário e pegar o valor digitado e guardar em escolha\n",
        "    escolha = input(\"Escolha(1/2/3/4): \")\n",
        "\n",
        "    #verifica a opção de entrada está no conjunto de opções definido por ('1', '2', '3', '4')\n",
        "    if escolha in ('1', '2', '3', '4'):\n",
        "        num1 = int(input(\"Digite o primeiro número: \"))\n",
        "        num2 = int(input(\"Digite o segundo número: \"))\n",
        "\n",
        "        if escolha == '1':\n",
        "            print(num1, \"+\", num2, \"=\", soma(num1, num2))\n",
        "\n",
        "        elif escolha == '2':\n",
        "            print(num1, \"-\", num2, \"=\", subtrai(num1, num2))\n",
        "\n",
        "        elif escolha == '3':\n",
        "            print(num1, \"*\", num2, \"=\", multiplica(num1, num2))\n",
        "\n",
        "        elif escolha == '4':\n",
        "            print(num1, \"/\", num2, \"=\", divide(num1, num2))\n",
        "        break #para o while, ele vai rodar uma única vez para cada opção válidab\n",
        "    else:\n",
        "        print(\"Escolha Inválida\") #digitou alguma coisa que não está no conjunto de opções"
      ],
      "execution_count": null,
      "outputs": [
        {
          "output_type": "stream",
          "text": [
            "Selecione a Operação.\n",
            "1.Soma\n",
            "2.Subtrai\n",
            "3.Multiplica\n",
            "4.Divide\n",
            "Escolha(1/2/3/4): 1\n",
            "Digite o primeiro número: 12\n",
            "Digite o segundo número: 12\n",
            "12 + 12 = 24\n"
          ],
          "name": "stdout"
        }
      ]
    },
    {
      "cell_type": "markdown",
      "metadata": {
        "id": "Uh6dWoTBJiMg"
      },
      "source": [
        "# Desafio 1: \n",
        "\n",
        "Esta calculadora é muito simples. Modifique esta calculadora de forma a evitar a entrada de caractares não numéricos, e para que ela rode continuamente até que você digite, a qualquer momento a letra S, maiúsculo. Por fim, modifique esta calculadora para incluir funções trignométricas e probabilidade e estatística."
      ]
    },
    {
      "cell_type": "markdown",
      "metadata": {
        "id": "xs-TBlElK5rd"
      },
      "source": [
        "# Desafio 2: \n",
        "\n",
        "Só para lembrar, os Desafios não fazem parte da disciplina e não são obrigatórios. Você pode fazer em grupo, individualmente ou com ajuda divina. Tanto faz. Eles servem apenas para você se desafiar e aprender um pouco mais com isso. Sendo assim, aqui existem mais alguns [Fenômenos - Desafio 1](https://forms.gle/Ae5djLcARBaaSpDd6)"
      ]
    }
  ]
}